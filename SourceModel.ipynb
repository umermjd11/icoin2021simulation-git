{
 "cells": [
  {
   "cell_type": "code",
   "execution_count": 3,
   "id": "9519646e-fa7e-4dea-a4d8-f176dfa632bc",
   "metadata": {},
   "outputs": [],
   "source": [
    "import pandas as pd\n",
    "from sklearn.preprocessing import LabelEncoder\n",
    "import matplotlib.pyplot as plt\n",
    "from sklearn.model_selection import train_test_split\n",
    "from py_session import py_session\n",
    "import time\n",
    "try:\n",
    "  # Use the %tensorflow_version magic if in colab.\n",
    "  %tensorflow_version 2.x\n",
    "except Exception:\n",
    "  pass\n",
    "\n",
    "import tensorflow as tf\n",
    "from tensorflow.keras.utils import to_categorical\n",
    "import numpy as np\n",
    "import collections\n",
    "from sklearn.utils import shuffle\n",
    "from tensorflow_federated import python as tff\n"
   ]
  },
  {
   "cell_type": "code",
   "execution_count": null,
   "id": "c3eb342a-4f5f-4b5d-90b2-33cc0cb93854",
   "metadata": {
    "colab": {},
    "colab_type": "code",
    "id": "DirUarD3w_vI"
   },
   "outputs": [],
   "source": [
    "from sklearn.preprocessing import LabelEncoder\n",
    "le= LabelEncoder()"
   ]
  },
  {
   "cell_type": "code",
   "execution_count": null,
   "id": "6b65c1de-73e2-4f1d-9bee-9c29b9667d3c",
   "metadata": {
    "colab": {},
    "colab_type": "code",
    "id": "bSiY5E8Evsj0"
   },
   "outputs": [],
   "source": [
    "datasetScenearioB120 = pd.read_csv(\"datasetScenearioB120.csv\", header=None, \n",
    " names=['duration',\n",
    " 'total_fiat',\n",
    " 'total_biat',\n",
    " 'min_fiat',\n",
    " 'min_biat',\n",
    " 'max_fiat',\n",
    " 'max_biat',\n",
    " 'mean_fiat',\n",
    " 'mean_biat',\n",
    " 'flowPktsPerSecond',\n",
    " 'flowBytesPerSecond',\n",
    " 'min_flowiat',\n",
    " 'max_flowiat',\n",
    " 'mean_flowiat',\n",
    " 'std_flowiat',\n",
    " 'min_active',\n",
    " 'mean_active',\n",
    " 'max_active',\n",
    " 'std_active',\n",
    " 'min_idle',\n",
    " 'mean_idle',\n",
    " 'max_idle',\n",
    " 'std_idle',\n",
    " 'class'])\n",
    "\n",
    "datasetScenearioB120['encoded_class']=le.fit_transform(datasetScenearioB120['class'])"
   ]
  },
  {
   "cell_type": "code",
   "execution_count": 8,
   "id": "5026d59e-30e8-45e8-b8dd-6615e66b0ca4",
   "metadata": {},
   "outputs": [
    {
     "data": {
      "text/plain": [
       "array(['BROWSING', 'CHAT', 'FT', 'MAIL', 'P2P', 'STREAMING', 'VOIP',\n",
       "       'VPN-BROWSING', 'VPN-CHAT', 'VPN-FT', 'VPN-MAIL', 'VPN-P2P',\n",
       "       'VPN-STREAMING', 'VPN-VOIP'], dtype=object)"
      ]
     },
     "execution_count": 8,
     "metadata": {},
     "output_type": "execute_result"
    }
   ],
   "source": [
    "le.classes_"
   ]
  },
  {
   "cell_type": "code",
   "execution_count": 9,
   "id": "6fa69fa1-a97a-47a5-947a-f2c0b9372c57",
   "metadata": {},
   "outputs": [
    {
     "name": "stdout",
     "output_type": "stream",
     "text": [
      "{'BROWSING': 0, 'CHAT': 1, 'FT': 2, 'MAIL': 3, 'P2P': 4, 'STREAMING': 5, 'VOIP': 6, 'VPN-BROWSING': 7, 'VPN-CHAT': 8, 'VPN-FT': 9, 'VPN-MAIL': 10, 'VPN-P2P': 11, 'VPN-STREAMING': 12, 'VPN-VOIP': 13}\n"
     ]
    }
   ],
   "source": [
    "le_name_mapping = dict(zip(le.classes_, le.transform(le.classes_)))\n",
    "print(le_name_mapping)"
   ]
  },
  {
   "cell_type": "code",
   "execution_count": null,
   "id": "604cfeee-f44f-4e72-b5fa-79fa252b6c02",
   "metadata": {
    "colab": {},
    "colab_type": "code",
    "id": "EoBpo8VynCZG"
   },
   "outputs": [],
   "source": [
    "datasetScenearioB120=datasetScenearioB120.drop(columns=['class'])\n",
    "\n",
    "datasetB120Norm=((datasetScenearioB120-datasetScenearioB120.mean())/(datasetScenearioB120.std()))\n",
    "\n",
    "datasetB120Norm['encoded_class']=datasetScenearioB120['encoded_class']"
   ]
  },
  {
   "cell_type": "code",
   "execution_count": null,
   "id": "4deb51d5-5b98-469f-af86-5bba6cf4e264",
   "metadata": {
    "colab": {},
    "colab_type": "code",
    "id": "Dwc3N4QiWwQ1"
   },
   "outputs": [],
   "source": [
    "datasetScenearioB60 = pd.read_csv(\"datasetScenearioB60.csv\", header=None, \n",
    " names=['duration',\n",
    " 'total_fiat',\n",
    " 'total_biat',\n",
    " 'min_fiat',\n",
    " 'min_biat',\n",
    " 'max_fiat',\n",
    " 'max_biat',\n",
    " 'mean_fiat',\n",
    " 'mean_biat',\n",
    " 'flowPktsPerSecond',\n",
    " 'flowBytesPerSecond',\n",
    " 'min_flowiat',\n",
    " 'max_flowiat',\n",
    " 'mean_flowiat',\n",
    " 'std_flowiat',\n",
    " 'min_active',\n",
    " 'mean_active',\n",
    " 'max_active',\n",
    " 'std_active',\n",
    " 'min_idle',\n",
    " 'mean_idle',\n",
    " 'max_idle',\n",
    " 'std_idle',\n",
    " 'class'])\n",
    "\n",
    "datasetScenearioB60['encoded_class']=le.fit_transform(datasetScenearioB60['class'])\n",
    "\n",
    "datasetScenearioB60=datasetScenearioB60.drop(columns=['class'])\n",
    "\n",
    "\n",
    "datasetB60Norm=((datasetScenearioB60-datasetScenearioB60.mean())/(datasetScenearioB60.std()))\n",
    "\n",
    "datasetB60Norm['encoded_class']=datasetScenearioB60['encoded_class']"
   ]
  },
  {
   "cell_type": "code",
   "execution_count": null,
   "id": "78dc70b5-2526-47ac-8d07-92806118938e",
   "metadata": {
    "colab": {},
    "colab_type": "code",
    "id": "o4xmhuQ0W3_o"
   },
   "outputs": [],
   "source": [
    "datasetScenearioB30 = pd.read_csv(\"datasetScenearioB30.csv\", header=None, \n",
    " names=['duration',\n",
    " 'total_fiat',\n",
    " 'total_biat',\n",
    " 'min_fiat',\n",
    " 'min_biat',\n",
    " 'max_fiat',\n",
    " 'max_biat',\n",
    " 'mean_fiat',\n",
    " 'mean_biat',\n",
    " 'flowPktsPerSecond',\n",
    " 'flowBytesPerSecond',\n",
    " 'min_flowiat',\n",
    " 'max_flowiat',\n",
    " 'mean_flowiat',\n",
    " 'std_flowiat',\n",
    " 'min_active',\n",
    " 'mean_active',\n",
    " 'max_active',\n",
    " 'std_active',\n",
    " 'min_idle',\n",
    " 'mean_idle',\n",
    " 'max_idle',\n",
    " 'std_idle',\n",
    " 'class'])\n",
    "\n",
    "datasetScenearioB30['encoded_class']=le.fit_transform(datasetScenearioB30['class'])\n",
    "\n",
    "datasetScenearioA30=datasetScenearioA30.drop(columns=['class'])\n",
    "\n",
    "datasetB30Norm=((datasetScenearioB30-datasetScenearioB30.mean())/(datasetScenearioB30.std()))\n",
    "\n",
    "datasetB30Norm['encoded_class']=datasetScenearioB30['encoded_class']\n",
    "\n"
   ]
  },
  {
   "cell_type": "code",
   "execution_count": null,
   "id": "a8bd9dd9-4b0a-43a8-b89c-d3fc9dd70770",
   "metadata": {
    "colab": {},
    "colab_type": "code",
    "id": "xUhxwroZYGO4"
   },
   "outputs": [],
   "source": [
    "datasetScenearioB15 = pd.read_csv(\"datasetScenearioB15.csv\", header=None, \n",
    " names=['duration',\n",
    " 'total_fiat',\n",
    " 'total_biat',\n",
    " 'min_fiat',\n",
    " 'min_biat',\n",
    " 'max_fiat',\n",
    " 'max_biat',\n",
    " 'mean_fiat',\n",
    " 'mean_biat',\n",
    " 'flowPktsPerSecond',\n",
    " 'flowBytesPerSecond',\n",
    " 'min_flowiat',\n",
    " 'max_flowiat',\n",
    " 'mean_flowiat',\n",
    " 'std_flowiat',\n",
    " 'min_active',\n",
    " 'mean_active',\n",
    " 'max_active',\n",
    " 'std_active',\n",
    " 'min_idle',\n",
    " 'mean_idle',\n",
    " 'max_idle',\n",
    " 'std_idle',\n",
    " 'class'])\n",
    "datasetScenearioB15['encoded_class']=le.fit_transform(datasetScenearioB15['class'])\n",
    "\n",
    "datasetScenearioB15=datasetScenearioB15.drop(columns=['class'])\n",
    "\n",
    "datasetB15Norm=((datasetScenearioB15-datasetScenearioB15.mean())/(datasetScenearioB15.std()))\n",
    "\n",
    "datasetB15Norm['encoded_class']=datasetScenearioB15['encoded_class']"
   ]
  },
  {
   "cell_type": "code",
   "execution_count": null,
   "id": "c47d6609-3b1a-4668-9001-cb85afeecc0f",
   "metadata": {
    "colab": {},
    "colab_type": "code",
    "id": "PqjfKx-SYlrV"
   },
   "outputs": [],
   "source": [
    "dataNorm=datasetB120Norm\n",
    "\n",
    "dataNorm=dataNorm.append(datasetB60Norm, ignore_index=True)\n",
    "dataNorm=dataNorm.append(datasetB30Norm, ignore_index=True)\n",
    "dataNorm=dataNorm.append(datasetB15Norm, ignore_index=True)"
   ]
  },
  {
   "cell_type": "code",
   "execution_count": 55,
   "id": "706541f2-8b91-4da0-a7a3-ee235602dfcb",
   "metadata": {
    "colab": {
     "base_uri": "https://localhost:8080/",
     "height": 472
    },
    "colab_type": "code",
    "executionInfo": {
     "elapsed": 793,
     "status": "ok",
     "timestamp": 1584766260190,
     "user": {
      "displayName": "MAJEED UMER[학생](대학원 컴퓨터공학과) ‍",
      "photoUrl": "",
      "userId": "09904507153320373005"
     },
     "user_tz": -540
    },
    "id": "cezWf-8wp-Uw",
    "outputId": "52a8e09b-4c33-44cc-ffff-cdb172be4254"
   },
   "outputs": [
    {
     "data": {
      "text/plain": [
       "duration              float64\n",
       "total_fiat            float64\n",
       "total_biat            float64\n",
       "min_fiat              float64\n",
       "min_biat              float64\n",
       "max_fiat              float64\n",
       "max_biat              float64\n",
       "mean_fiat             float64\n",
       "mean_biat             float64\n",
       "flowPktsPerSecond     float64\n",
       "flowBytesPerSecond    float64\n",
       "min_flowiat           float64\n",
       "max_flowiat           float64\n",
       "mean_flowiat          float64\n",
       "std_flowiat           float64\n",
       "min_active            float64\n",
       "mean_active           float64\n",
       "max_active            float64\n",
       "std_active            float64\n",
       "min_idle              float64\n",
       "mean_idle             float64\n",
       "max_idle              float64\n",
       "std_idle              float64\n",
       "encoded_class           int64\n",
       "dtype: object"
      ]
     },
     "execution_count": 55,
     "metadata": {
      "tags": []
     },
     "output_type": "execute_result"
    }
   ],
   "source": [
    "dataNorm.dtypes"
   ]
  },
  {
   "cell_type": "code",
   "execution_count": 50,
   "id": "4964af96-f9ed-4c69-b862-3d7cf90c05d9",
   "metadata": {},
   "outputs": [
    {
     "data": {
      "text/html": [
       "<div>\n",
       "<style scoped>\n",
       "    .dataframe tbody tr th:only-of-type {\n",
       "        vertical-align: middle;\n",
       "    }\n",
       "\n",
       "    .dataframe tbody tr th {\n",
       "        vertical-align: top;\n",
       "    }\n",
       "\n",
       "    .dataframe thead th {\n",
       "        text-align: right;\n",
       "    }\n",
       "</style>\n",
       "<table border=\"1\" class=\"dataframe\">\n",
       "  <thead>\n",
       "    <tr style=\"text-align: right;\">\n",
       "      <th></th>\n",
       "      <th>duration</th>\n",
       "      <th>total_fiat</th>\n",
       "      <th>total_biat</th>\n",
       "      <th>min_fiat</th>\n",
       "      <th>min_biat</th>\n",
       "      <th>max_fiat</th>\n",
       "      <th>max_biat</th>\n",
       "      <th>mean_fiat</th>\n",
       "      <th>mean_biat</th>\n",
       "      <th>flowPktsPerSecond</th>\n",
       "      <th>...</th>\n",
       "      <th>std_flowiat</th>\n",
       "      <th>min_active</th>\n",
       "      <th>mean_active</th>\n",
       "      <th>max_active</th>\n",
       "      <th>std_active</th>\n",
       "      <th>min_idle</th>\n",
       "      <th>mean_idle</th>\n",
       "      <th>max_idle</th>\n",
       "      <th>std_idle</th>\n",
       "      <th>encoded_class</th>\n",
       "    </tr>\n",
       "  </thead>\n",
       "  <tbody>\n",
       "    <tr>\n",
       "      <th>0</th>\n",
       "      <td>1.387643</td>\n",
       "      <td>-0.311477</td>\n",
       "      <td>-0.276861</td>\n",
       "      <td>0.628009</td>\n",
       "      <td>0.823722</td>\n",
       "      <td>-0.411613</td>\n",
       "      <td>-0.392982</td>\n",
       "      <td>-0.162273</td>\n",
       "      <td>-0.155449</td>\n",
       "      <td>-0.211480</td>\n",
       "      <td>...</td>\n",
       "      <td>-0.355567</td>\n",
       "      <td>-0.378909</td>\n",
       "      <td>-0.325365</td>\n",
       "      <td>0.526630</td>\n",
       "      <td>0.521968</td>\n",
       "      <td>-0.381806</td>\n",
       "      <td>-0.351999</td>\n",
       "      <td>0.545133</td>\n",
       "      <td>0.554642</td>\n",
       "      <td>1</td>\n",
       "    </tr>\n",
       "    <tr>\n",
       "      <th>1</th>\n",
       "      <td>1.433055</td>\n",
       "      <td>-0.311477</td>\n",
       "      <td>-0.276861</td>\n",
       "      <td>0.628704</td>\n",
       "      <td>0.818574</td>\n",
       "      <td>-0.409091</td>\n",
       "      <td>-0.394245</td>\n",
       "      <td>-0.155295</td>\n",
       "      <td>-0.162247</td>\n",
       "      <td>-0.211482</td>\n",
       "      <td>...</td>\n",
       "      <td>-0.354658</td>\n",
       "      <td>-0.376179</td>\n",
       "      <td>-0.345179</td>\n",
       "      <td>0.524956</td>\n",
       "      <td>0.468308</td>\n",
       "      <td>-0.382291</td>\n",
       "      <td>-0.360140</td>\n",
       "      <td>0.541502</td>\n",
       "      <td>0.495028</td>\n",
       "      <td>1</td>\n",
       "    </tr>\n",
       "    <tr>\n",
       "      <th>2</th>\n",
       "      <td>0.876661</td>\n",
       "      <td>-0.311476</td>\n",
       "      <td>-0.276861</td>\n",
       "      <td>0.261788</td>\n",
       "      <td>0.379124</td>\n",
       "      <td>-0.376589</td>\n",
       "      <td>-0.349008</td>\n",
       "      <td>-0.042972</td>\n",
       "      <td>0.009202</td>\n",
       "      <td>-0.211525</td>\n",
       "      <td>...</td>\n",
       "      <td>-0.263476</td>\n",
       "      <td>-0.331239</td>\n",
       "      <td>-0.176311</td>\n",
       "      <td>0.190405</td>\n",
       "      <td>0.661566</td>\n",
       "      <td>-0.374314</td>\n",
       "      <td>-0.195001</td>\n",
       "      <td>0.200576</td>\n",
       "      <td>0.753111</td>\n",
       "      <td>1</td>\n",
       "    </tr>\n",
       "    <tr>\n",
       "      <th>3</th>\n",
       "      <td>0.396602</td>\n",
       "      <td>-0.311477</td>\n",
       "      <td>-0.276861</td>\n",
       "      <td>0.320534</td>\n",
       "      <td>0.449830</td>\n",
       "      <td>-0.396896</td>\n",
       "      <td>-0.378565</td>\n",
       "      <td>-0.100082</td>\n",
       "      <td>-0.083194</td>\n",
       "      <td>-0.211505</td>\n",
       "      <td>...</td>\n",
       "      <td>-0.312051</td>\n",
       "      <td>-0.371975</td>\n",
       "      <td>-0.201415</td>\n",
       "      <td>0.239987</td>\n",
       "      <td>0.728475</td>\n",
       "      <td>-0.377779</td>\n",
       "      <td>-0.223393</td>\n",
       "      <td>0.255431</td>\n",
       "      <td>0.760556</td>\n",
       "      <td>1</td>\n",
       "    </tr>\n",
       "    <tr>\n",
       "      <th>4</th>\n",
       "      <td>1.441082</td>\n",
       "      <td>1.925923</td>\n",
       "      <td>2.154681</td>\n",
       "      <td>0.452196</td>\n",
       "      <td>0.613841</td>\n",
       "      <td>1.628258</td>\n",
       "      <td>1.811737</td>\n",
       "      <td>-0.381014</td>\n",
       "      <td>-0.464994</td>\n",
       "      <td>-0.211567</td>\n",
       "      <td>...</td>\n",
       "      <td>0.944604</td>\n",
       "      <td>0.600347</td>\n",
       "      <td>0.496862</td>\n",
       "      <td>0.359364</td>\n",
       "      <td>-0.368088</td>\n",
       "      <td>0.610032</td>\n",
       "      <td>0.508947</td>\n",
       "      <td>0.380876</td>\n",
       "      <td>-0.358025</td>\n",
       "      <td>1</td>\n",
       "    </tr>\n",
       "    <tr>\n",
       "      <th>...</th>\n",
       "      <td>...</td>\n",
       "      <td>...</td>\n",
       "      <td>...</td>\n",
       "      <td>...</td>\n",
       "      <td>...</td>\n",
       "      <td>...</td>\n",
       "      <td>...</td>\n",
       "      <td>...</td>\n",
       "      <td>...</td>\n",
       "      <td>...</td>\n",
       "      <td>...</td>\n",
       "      <td>...</td>\n",
       "      <td>...</td>\n",
       "      <td>...</td>\n",
       "      <td>...</td>\n",
       "      <td>...</td>\n",
       "      <td>...</td>\n",
       "      <td>...</td>\n",
       "      <td>...</td>\n",
       "      <td>...</td>\n",
       "      <td>...</td>\n",
       "    </tr>\n",
       "    <tr>\n",
       "      <th>59701</th>\n",
       "      <td>-0.675617</td>\n",
       "      <td>-0.271345</td>\n",
       "      <td>-0.269416</td>\n",
       "      <td>-0.312038</td>\n",
       "      <td>-0.296472</td>\n",
       "      <td>-0.319534</td>\n",
       "      <td>-0.369323</td>\n",
       "      <td>-0.194815</td>\n",
       "      <td>-0.243745</td>\n",
       "      <td>-0.107057</td>\n",
       "      <td>...</td>\n",
       "      <td>-0.292869</td>\n",
       "      <td>-0.242290</td>\n",
       "      <td>-0.268084</td>\n",
       "      <td>-0.292185</td>\n",
       "      <td>-0.178574</td>\n",
       "      <td>-0.223616</td>\n",
       "      <td>-0.246777</td>\n",
       "      <td>-0.268493</td>\n",
       "      <td>-0.162674</td>\n",
       "      <td>4</td>\n",
       "    </tr>\n",
       "    <tr>\n",
       "      <th>59702</th>\n",
       "      <td>-0.677088</td>\n",
       "      <td>-0.271345</td>\n",
       "      <td>-0.269416</td>\n",
       "      <td>-0.312038</td>\n",
       "      <td>-0.296472</td>\n",
       "      <td>-0.319534</td>\n",
       "      <td>-0.369323</td>\n",
       "      <td>-0.194815</td>\n",
       "      <td>-0.243745</td>\n",
       "      <td>-0.106477</td>\n",
       "      <td>...</td>\n",
       "      <td>-0.292869</td>\n",
       "      <td>-0.242290</td>\n",
       "      <td>-0.268084</td>\n",
       "      <td>-0.292185</td>\n",
       "      <td>-0.178574</td>\n",
       "      <td>-0.223616</td>\n",
       "      <td>-0.246777</td>\n",
       "      <td>-0.268493</td>\n",
       "      <td>-0.162674</td>\n",
       "      <td>4</td>\n",
       "    </tr>\n",
       "    <tr>\n",
       "      <th>59703</th>\n",
       "      <td>-0.675986</td>\n",
       "      <td>-0.271345</td>\n",
       "      <td>-0.269416</td>\n",
       "      <td>-0.312038</td>\n",
       "      <td>-0.296472</td>\n",
       "      <td>-0.319534</td>\n",
       "      <td>-0.369323</td>\n",
       "      <td>-0.194815</td>\n",
       "      <td>-0.243745</td>\n",
       "      <td>-0.106945</td>\n",
       "      <td>...</td>\n",
       "      <td>-0.292869</td>\n",
       "      <td>-0.242290</td>\n",
       "      <td>-0.268084</td>\n",
       "      <td>-0.292185</td>\n",
       "      <td>-0.178574</td>\n",
       "      <td>-0.223616</td>\n",
       "      <td>-0.246777</td>\n",
       "      <td>-0.268493</td>\n",
       "      <td>-0.162674</td>\n",
       "      <td>4</td>\n",
       "    </tr>\n",
       "    <tr>\n",
       "      <th>59704</th>\n",
       "      <td>-0.658908</td>\n",
       "      <td>-0.271345</td>\n",
       "      <td>-0.269416</td>\n",
       "      <td>-0.312038</td>\n",
       "      <td>-0.296472</td>\n",
       "      <td>-0.319534</td>\n",
       "      <td>-0.369323</td>\n",
       "      <td>-0.194815</td>\n",
       "      <td>-0.243745</td>\n",
       "      <td>-0.108152</td>\n",
       "      <td>...</td>\n",
       "      <td>-0.292869</td>\n",
       "      <td>-0.242290</td>\n",
       "      <td>-0.268084</td>\n",
       "      <td>-0.292185</td>\n",
       "      <td>-0.178574</td>\n",
       "      <td>-0.223616</td>\n",
       "      <td>-0.246777</td>\n",
       "      <td>-0.268493</td>\n",
       "      <td>-0.162674</td>\n",
       "      <td>4</td>\n",
       "    </tr>\n",
       "    <tr>\n",
       "      <th>59705</th>\n",
       "      <td>-0.675398</td>\n",
       "      <td>-0.271345</td>\n",
       "      <td>-0.269416</td>\n",
       "      <td>-0.312038</td>\n",
       "      <td>-0.296472</td>\n",
       "      <td>-0.319534</td>\n",
       "      <td>-0.369323</td>\n",
       "      <td>-0.194815</td>\n",
       "      <td>-0.243745</td>\n",
       "      <td>-0.107116</td>\n",
       "      <td>...</td>\n",
       "      <td>-0.292869</td>\n",
       "      <td>-0.242290</td>\n",
       "      <td>-0.268084</td>\n",
       "      <td>-0.292185</td>\n",
       "      <td>-0.178574</td>\n",
       "      <td>-0.223616</td>\n",
       "      <td>-0.246777</td>\n",
       "      <td>-0.268493</td>\n",
       "      <td>-0.162674</td>\n",
       "      <td>4</td>\n",
       "    </tr>\n",
       "  </tbody>\n",
       "</table>\n",
       "<p>59706 rows × 24 columns</p>\n",
       "</div>"
      ],
      "text/plain": [
       "       duration  total_fiat  total_biat  min_fiat  min_biat  max_fiat  \\\n",
       "0      1.387643   -0.311477   -0.276861  0.628009  0.823722 -0.411613   \n",
       "1      1.433055   -0.311477   -0.276861  0.628704  0.818574 -0.409091   \n",
       "2      0.876661   -0.311476   -0.276861  0.261788  0.379124 -0.376589   \n",
       "3      0.396602   -0.311477   -0.276861  0.320534  0.449830 -0.396896   \n",
       "4      1.441082    1.925923    2.154681  0.452196  0.613841  1.628258   \n",
       "...         ...         ...         ...       ...       ...       ...   \n",
       "59701 -0.675617   -0.271345   -0.269416 -0.312038 -0.296472 -0.319534   \n",
       "59702 -0.677088   -0.271345   -0.269416 -0.312038 -0.296472 -0.319534   \n",
       "59703 -0.675986   -0.271345   -0.269416 -0.312038 -0.296472 -0.319534   \n",
       "59704 -0.658908   -0.271345   -0.269416 -0.312038 -0.296472 -0.319534   \n",
       "59705 -0.675398   -0.271345   -0.269416 -0.312038 -0.296472 -0.319534   \n",
       "\n",
       "       max_biat  mean_fiat  mean_biat  flowPktsPerSecond  ...  std_flowiat  \\\n",
       "0     -0.392982  -0.162273  -0.155449          -0.211480  ...    -0.355567   \n",
       "1     -0.394245  -0.155295  -0.162247          -0.211482  ...    -0.354658   \n",
       "2     -0.349008  -0.042972   0.009202          -0.211525  ...    -0.263476   \n",
       "3     -0.378565  -0.100082  -0.083194          -0.211505  ...    -0.312051   \n",
       "4      1.811737  -0.381014  -0.464994          -0.211567  ...     0.944604   \n",
       "...         ...        ...        ...                ...  ...          ...   \n",
       "59701 -0.369323  -0.194815  -0.243745          -0.107057  ...    -0.292869   \n",
       "59702 -0.369323  -0.194815  -0.243745          -0.106477  ...    -0.292869   \n",
       "59703 -0.369323  -0.194815  -0.243745          -0.106945  ...    -0.292869   \n",
       "59704 -0.369323  -0.194815  -0.243745          -0.108152  ...    -0.292869   \n",
       "59705 -0.369323  -0.194815  -0.243745          -0.107116  ...    -0.292869   \n",
       "\n",
       "       min_active  mean_active  max_active  std_active  min_idle  mean_idle  \\\n",
       "0       -0.378909    -0.325365    0.526630    0.521968 -0.381806  -0.351999   \n",
       "1       -0.376179    -0.345179    0.524956    0.468308 -0.382291  -0.360140   \n",
       "2       -0.331239    -0.176311    0.190405    0.661566 -0.374314  -0.195001   \n",
       "3       -0.371975    -0.201415    0.239987    0.728475 -0.377779  -0.223393   \n",
       "4        0.600347     0.496862    0.359364   -0.368088  0.610032   0.508947   \n",
       "...           ...          ...         ...         ...       ...        ...   \n",
       "59701   -0.242290    -0.268084   -0.292185   -0.178574 -0.223616  -0.246777   \n",
       "59702   -0.242290    -0.268084   -0.292185   -0.178574 -0.223616  -0.246777   \n",
       "59703   -0.242290    -0.268084   -0.292185   -0.178574 -0.223616  -0.246777   \n",
       "59704   -0.242290    -0.268084   -0.292185   -0.178574 -0.223616  -0.246777   \n",
       "59705   -0.242290    -0.268084   -0.292185   -0.178574 -0.223616  -0.246777   \n",
       "\n",
       "       max_idle  std_idle  encoded_class  \n",
       "0      0.545133  0.554642              1  \n",
       "1      0.541502  0.495028              1  \n",
       "2      0.200576  0.753111              1  \n",
       "3      0.255431  0.760556              1  \n",
       "4      0.380876 -0.358025              1  \n",
       "...         ...       ...            ...  \n",
       "59701 -0.268493 -0.162674              4  \n",
       "59702 -0.268493 -0.162674              4  \n",
       "59703 -0.268493 -0.162674              4  \n",
       "59704 -0.268493 -0.162674              4  \n",
       "59705 -0.268493 -0.162674              4  \n",
       "\n",
       "[59706 rows x 24 columns]"
      ]
     },
     "execution_count": 50,
     "metadata": {},
     "output_type": "execute_result"
    }
   ],
   "source": [
    "dataNorm"
   ]
  },
  {
   "cell_type": "code",
   "execution_count": 52,
   "id": "a8bd3e76-2903-4aa9-a4ce-32e8ce400077",
   "metadata": {},
   "outputs": [],
   "source": [
    "df_total_numeric_features=dataNorm[['duration',\n",
    " 'total_fiat',\n",
    " 'total_biat',\n",
    " 'min_fiat',\n",
    " 'min_biat',\n",
    " 'max_fiat',\n",
    " 'max_biat',\n",
    " 'mean_fiat',\n",
    " 'mean_biat',\n",
    " 'flowPktsPerSecond',\n",
    " 'flowBytesPerSecond',\n",
    " 'min_flowiat',\n",
    " 'max_flowiat',\n",
    " 'mean_flowiat',\n",
    " 'std_flowiat',\n",
    " 'min_active',\n",
    " 'mean_active',\n",
    " 'max_active',\n",
    " 'std_active',\n",
    " 'min_idle',\n",
    " 'mean_idle',\n",
    " 'max_idle',\n",
    " 'std_idle']].to_numpy()"
   ]
  },
  {
   "cell_type": "code",
   "execution_count": null,
   "id": "cd825f3b-7ad0-41fc-809c-7dbb1aaaa200",
   "metadata": {
    "colab": {},
    "colab_type": "code",
    "id": "n5eo6zN6xdb8"
   },
   "outputs": [],
   "source": [
    "df_total_numeric_label=dataNorm[['encoded_class']].to_numpy()"
   ]
  },
  {
   "cell_type": "code",
   "execution_count": null,
   "id": "8591c4b2-dcb5-4748-97e2-4ee4402eb22b",
   "metadata": {
    "colab": {},
    "colab_type": "code",
    "id": "caGQHbrDCgYl"
   },
   "outputs": [],
   "source": [
    "ohe_label = to_categorical(df_total_numeric_label)"
   ]
  },
  {
   "cell_type": "code",
   "execution_count": null,
   "id": "2a30d602-9f80-4bc7-88af-35f503cd1522",
   "metadata": {
    "colab": {},
    "colab_type": "code",
    "id": "VzbTo7ZHxgQc"
   },
   "outputs": [],
   "source": [
    "X_train, X_test, y_train, y_test = train_test_split(df_total_numeric_features, ohe_label,\n",
    "                                                    stratify=ohe_label, \n",
    "                                                    test_size=0.2)"
   ]
  },
  {
   "cell_type": "code",
   "execution_count": 56,
   "id": "d282dc37-3c3d-487e-9315-c7481e0ef62b",
   "metadata": {},
   "outputs": [],
   "source": [
    "(unique, counts) = np.unique(y_train, return_counts=True,axis=0)"
   ]
  },
  {
   "cell_type": "code",
   "execution_count": 57,
   "id": "8fce6c9b-4dd5-4fef-9519-299d0f78f132",
   "metadata": {},
   "outputs": [
    {
     "data": {
      "text/plain": [
       "array([[0., 0., 0., 0., 0., 0., 0., 0., 0., 0., 0., 0., 0., 1.],\n",
       "       [0., 0., 0., 0., 0., 0., 0., 0., 0., 0., 0., 0., 1., 0.],\n",
       "       [0., 0., 0., 0., 0., 0., 0., 0., 0., 0., 0., 1., 0., 0.],\n",
       "       [0., 0., 0., 0., 0., 0., 0., 0., 0., 0., 1., 0., 0., 0.],\n",
       "       [0., 0., 0., 0., 0., 0., 0., 0., 0., 1., 0., 0., 0., 0.],\n",
       "       [0., 0., 0., 0., 0., 0., 0., 0., 1., 0., 0., 0., 0., 0.],\n",
       "       [0., 0., 0., 0., 0., 0., 0., 1., 0., 0., 0., 0., 0., 0.],\n",
       "       [0., 0., 0., 0., 0., 0., 1., 0., 0., 0., 0., 0., 0., 0.],\n",
       "       [0., 0., 0., 0., 0., 1., 0., 0., 0., 0., 0., 0., 0., 0.],\n",
       "       [0., 0., 0., 0., 1., 0., 0., 0., 0., 0., 0., 0., 0., 0.],\n",
       "       [0., 0., 0., 1., 0., 0., 0., 0., 0., 0., 0., 0., 0., 0.],\n",
       "       [0., 0., 1., 0., 0., 0., 0., 0., 0., 0., 0., 0., 0., 0.],\n",
       "       [0., 1., 0., 0., 0., 0., 0., 0., 0., 0., 0., 0., 0., 0.],\n",
       "       [1., 0., 0., 0., 0., 0., 0., 0., 0., 0., 0., 0., 0., 0.]],\n",
       "      dtype=float32)"
      ]
     },
     "execution_count": 57,
     "metadata": {},
     "output_type": "execute_result"
    }
   ],
   "source": [
    "unique"
   ]
  },
  {
   "cell_type": "code",
   "execution_count": 62,
   "id": "68eda301-c9a1-469a-9631-e95a7030a68d",
   "metadata": {},
   "outputs": [
    {
     "data": {
      "text/plain": [
       "11942"
      ]
     },
     "execution_count": 62,
     "metadata": {},
     "output_type": "execute_result"
    }
   ],
   "source": [
    "total_test=len(X_test)\n",
    "total_test"
   ]
  },
  {
   "cell_type": "code",
   "execution_count": 63,
   "id": "ae8e8954-0403-417e-887a-9487faa9e434",
   "metadata": {},
   "outputs": [
    {
     "data": {
      "text/plain": [
       "47764"
      ]
     },
     "execution_count": 63,
     "metadata": {},
     "output_type": "execute_result"
    }
   ],
   "source": [
    "total_train=len(X_train)\n",
    "total_train"
   ]
  },
  {
   "cell_type": "code",
   "execution_count": 64,
   "id": "82df02dd-2e31-449e-8827-2c11bbe2a14d",
   "metadata": {},
   "outputs": [],
   "source": [
    "np.random.seed(1000)"
   ]
  },
  {
   "cell_type": "code",
   "execution_count": 65,
   "id": "c79a79b2-f9ac-4498-95b1-20c7ca5a9fe7",
   "metadata": {},
   "outputs": [],
   "source": [
    "x_train, y_train = shuffle(X_train, y_train, random_state=1000)\n",
    "x_test, y_test = shuffle(X_test, y_test, random_state=1000)"
   ]
  },
  {
   "cell_type": "code",
   "execution_count": 67,
   "id": "931f6346-f713-4a4c-b380-5aae9154e95a",
   "metadata": {},
   "outputs": [],
   "source": [
    "y_train=y_train.astype('int32')"
   ]
  },
  {
   "cell_type": "code",
   "execution_count": 68,
   "id": "1d9e2506-7ce6-464d-8920-21ac8a06a28c",
   "metadata": {},
   "outputs": [],
   "source": [
    "x_train=x_train.astype('float32')"
   ]
  },
  {
   "cell_type": "code",
   "execution_count": 69,
   "id": "351dda82-4ceb-408f-b1f0-3ae59a4d6f91",
   "metadata": {},
   "outputs": [],
   "source": [
    "y_test=y_test.astype('int32')"
   ]
  },
  {
   "cell_type": "code",
   "execution_count": 70,
   "id": "2fdb7f8f-dd0e-4fba-af08-f6941fb69556",
   "metadata": {},
   "outputs": [],
   "source": [
    "x_test=x_test.astype('float32')"
   ]
  },
  {
   "cell_type": "code",
   "execution_count": 71,
   "id": "ec8b848c-f5a7-4324-a721-507ac376b007",
   "metadata": {},
   "outputs": [],
   "source": [
    "CLIENTS=2\n",
    "BATCH_SIZE_train = int(total_train/2) # 23882\n",
    "BATCH_SIZE_test = int(total_test/2) #5971\n",
    "BATCH_SIZE = 100"
   ]
  },
  {
   "cell_type": "code",
   "execution_count": 72,
   "id": "1a72d656-7228-4fce-9a70-d2fc57a94a57",
   "metadata": {},
   "outputs": [],
   "source": [
    "def generate_clients_datasets(n, BATCH_SIZE_EXT, source_x, source_y):\n",
    "    clients_dataset=[]\n",
    "    for i in range(n):\n",
    "        dataset=tf.data.Dataset.from_tensor_slices((source_x[i*BATCH_SIZE_EXT:(i+1)*BATCH_SIZE_EXT], source_y[i*BATCH_SIZE_EXT:(i+1)*BATCH_SIZE_EXT]))\n",
    "        dataset = dataset.batch(BATCH_SIZE)\n",
    "        clients_dataset.append(dataset)\n",
    "    return clients_dataset"
   ]
  },
  {
   "cell_type": "code",
   "execution_count": 73,
   "id": "7e134abb-b3f3-4267-b7c5-04bbab09f16e",
   "metadata": {},
   "outputs": [],
   "source": [
    "train_dataset_central=generate_clients_datasets(1, total_train*2, x_train, y_train)"
   ]
  },
  {
   "cell_type": "code",
   "execution_count": 74,
   "id": "4006c7c2-fa52-41df-859c-87dc40c65b1d",
   "metadata": {},
   "outputs": [],
   "source": [
    "test_dataset_central=generate_clients_datasets(1, total_test*2, x_test, y_test)"
   ]
  },
  {
   "cell_type": "code",
   "execution_count": 75,
   "id": "29cb76d0-2455-4a36-ad53-498fbffc6742",
   "metadata": {},
   "outputs": [],
   "source": [
    "train_dataset_individual=generate_clients_datasets(CLIENTS, BATCH_SIZE_train, x_train, y_train)"
   ]
  },
  {
   "cell_type": "code",
   "execution_count": 76,
   "id": "71f76de2-0381-44c4-bce9-c64c7754cb3a",
   "metadata": {},
   "outputs": [],
   "source": [
    "test_dataset_individual=generate_clients_datasets(CLIENTS, BATCH_SIZE_test, x_test, y_test)"
   ]
  },
  {
   "cell_type": "code",
   "execution_count": 77,
   "id": "0003e589-910d-4db4-a82d-7122ea017a1a",
   "metadata": {},
   "outputs": [],
   "source": [
    "batch_of_samples = tf.nest.map_structure(\n",
    "    lambda x: x.numpy(), iter(train_dataset_individual[0]).next()\n",
    ")"
   ]
  },
  {
   "cell_type": "code",
   "execution_count": 78,
   "id": "af55ac55-5e71-4cb5-be93-26442a58a874",
   "metadata": {},
   "outputs": [],
   "source": [
    "Epochs=1000"
   ]
  },
  {
   "cell_type": "code",
   "execution_count": null,
   "id": "16a4d948-d03a-41ec-9e61-acfa3b731469",
   "metadata": {},
   "outputs": [],
   "source": [
    "display_epoch=Epochs\n",
    "t = np.arange(1, display_epoch+1, 1)"
   ]
  },
  {
   "cell_type": "code",
   "execution_count": 88,
   "id": "38c1726d-6d31-47f6-a3ad-4dea3824adbe",
   "metadata": {},
   "outputs": [],
   "source": [
    " def model_instance_1():\n",
    "    \n",
    "    federated_model_1 = tf.keras.models.Sequential([\n",
    "    tf.keras.layers.Input(shape=(23,)), \n",
    "\n",
    "    tf.keras.layers.Dense(512, activation='relu'),\n",
    "    tf.keras.layers.Dense(512, activation='relu'),\n",
    "    tf.keras.layers.Dense(512, activation='relu'),\n",
    "\n",
    "    tf.keras.layers.Dropout(0.2),\n",
    "\n",
    "    tf.keras.layers.Dense(512, activation='relu'),\n",
    "    tf.keras.layers.Dense(512, activation='relu'),\n",
    "    tf.keras.layers.Dense(512, activation='relu'),\n",
    "    \n",
    "    tf.keras.layers.Dropout(0.2),\n",
    "\n",
    "    tf.keras.layers.Dense(512, activation='relu'),\n",
    "    tf.keras.layers.Dense(512, activation='relu'),\n",
    "    tf.keras.layers.Dense(512, activation='relu'),\n",
    "    tf.keras.layers.Dense(14, activation='softmax')\n",
    "      \n",
    "    ])\n",
    "    \n",
    "    federated_model_1.compile(optimizer='sgd', loss=tf.keras.losses.CategoricalCrossentropy(), metrics=[tf.keras.metrics.CategoricalAccuracy()])\n",
    "\n",
    "    return tff.learning.from_compiled_keras_model(federated_model_1, batch_of_samples)\n",
    "    "
   ]
  },
  {
   "cell_type": "code",
   "execution_count": 89,
   "id": "3832aff1-bb56-48fc-87b6-e89163ae9bc6",
   "metadata": {},
   "outputs": [],
   "source": [
    "federated_data=train_dataset_individual"
   ]
  },
  {
   "cell_type": "code",
   "execution_count": null,
   "id": "d83445c5-269e-4fb0-8e1b-e7dd8cd4115f",
   "metadata": {},
   "outputs": [],
   "source": [
    "federated_learning_iterative_process = tff.learning.build_federated_averaging_process(\n",
    "    model_instance_1,\n",
    ")"
   ]
  },
  {
   "cell_type": "code",
   "execution_count": 91,
   "id": "56ee1f81-229b-4e1f-a8d5-cfdf9ef5b1cd",
   "metadata": {},
   "outputs": [],
   "source": [
    "state = federated_learning_iterative_process.initialize()"
   ]
  },
  {
   "cell_type": "code",
   "execution_count": 143,
   "id": "ba2edb39-2f92-4021-ab72-18ae85ce17ca",
   "metadata": {},
   "outputs": [],
   "source": [
    "federated_model_val = tf.keras.models.Sequential([\n",
    "    tf.keras.layers.Input(shape=(23,)), \n",
    "\n",
    "    tf.keras.layers.Dense(512, activation='relu'),\n",
    "    tf.keras.layers.Dense(512, activation='relu'),\n",
    "    tf.keras.layers.Dense(512, activation='relu'),\n",
    "\n",
    "    tf.keras.layers.Dropout(0.2),\n",
    "\n",
    "    tf.keras.layers.Dense(512, activation='relu'),\n",
    "    tf.keras.layers.Dense(512, activation='relu'),\n",
    "    tf.keras.layers.Dense(512, activation='relu'),\n",
    "    \n",
    "    tf.keras.layers.Dropout(0.2),\n",
    "\n",
    "    tf.keras.layers.Dense(512, activation='relu'),\n",
    "    tf.keras.layers.Dense(512, activation='relu'),\n",
    "    tf.keras.layers.Dense(512, activation='relu'),\n",
    "    tf.keras.layers.Dense(14, activation='softmax')\n",
    "      \n",
    "    ])"
   ]
  },
  {
   "cell_type": "code",
   "execution_count": null,
   "id": "6cdc4ec5-f960-4bc7-a943-7cb9409c9ef3",
   "metadata": {},
   "outputs": [],
   "source": [
    "fed_sparse_categorical_accuracy=[]\n",
    "fed_loss=[]\n",
    "fed_val_sparse_categorical_accuracy=[]\n",
    "fed_val_loss=[]\n",
    "for n in range(EPOCHS):\n",
    "    state, metrics = federated_learning_iterative_process.next(state, [test_dataset_central[0],test_dataset_central[0]])\n",
    "    fed_sparse_categorical_accuracy.append(metrics[0])\n",
    "    fed_loss.append(metrics[1])\n",
    "    test_metrics = evaluation(state.model, test_dataset_individual)\n",
    "    fed_val_sparse_categorical_accuracy.append(test_metrics[0])\n",
    "    fed_val_loss.append(test_metrics[1])\n",
    "    if fed_val_sparse_categorical_accuracy [n] > fed_val_sparse_categorical_accuracy [n-1]:\n",
    "        tffweights = tff.learning.model_utils.ModelWeights.from_tff_result(state.model)\n",
    "        tffweights.assign_weights_to(federated_model_val)\n",
    "        filepath=\"ScenarioB-weights.hdf5\".format(n,fed_val_sparse_categorical_accuracy[n])\n",
    "        federated_model_val.save_weights(filepath)\n",
    "    print('round  {}, fed_loss: {} - fed_sparse_categorical_accuracy: {} - fed_val_loss: {}- fed_val_sparse_categorical_accuracy: {}'.format(n+1, metrics[1], metrics[0], test_metrics[1], test_metrics[0] ))\n"
   ]
  },
  {
   "cell_type": "code",
   "execution_count": 144,
   "id": "3eae7037-7583-4d5a-9031-7c799fe95b19",
   "metadata": {},
   "outputs": [],
   "source": [
    "federated_model_val.load_weights('ScenarioB-weights.hdf5')"
   ]
  },
  {
   "cell_type": "markdown",
   "id": "20692a8d-fd41-4424-a6ca-d52de34304ad",
   "metadata": {},
   "source": [
    "<p style=\"text-align:center\">\n",
    "    <img src=\"source.png\" width=\"600\">\n",
    "</p>\n"
   ]
  },
  {
   "cell_type": "code",
   "execution_count": null,
   "id": "506b08bf-8b34-43bc-88a5-7f9ef7b2f5a1",
   "metadata": {},
   "outputs": [],
   "source": []
  }
 ],
 "metadata": {
  "kernelspec": {
   "display_name": "dle",
   "language": "python",
   "name": "dle"
  },
  "language_info": {
   "codemirror_mode": {
    "name": "ipython",
    "version": 3
   },
   "file_extension": ".py",
   "mimetype": "text/x-python",
   "name": "python",
   "nbconvert_exporter": "python",
   "pygments_lexer": "ipython3",
   "version": "3.10.12"
  }
 },
 "nbformat": 4,
 "nbformat_minor": 5
}
